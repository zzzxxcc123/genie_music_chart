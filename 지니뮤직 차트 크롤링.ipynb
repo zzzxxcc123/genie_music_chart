{
 "cells": [
  {
   "cell_type": "code",
   "execution_count": null,
   "metadata": {},
   "outputs": [],
   "source": [
    "# 과제\n",
    "# 지니 차트 1워 무터 200위 까지 크롤링\n",
    "# 반복문을 사용하여 크롤링\n",
    "# 엑셀로 내보내기 기능\n",
    "# 과제 제출은 github로 내보\n",
    "import requests\n",
    "from bs4 import BeautifulSoup\n",
    "import pandas as pd\n",
    "\n",
    "def genie_music_chart(page_num):\n",
    "  header = {\"User-Agent\": 'Mozilla/5.0'}\n",
    "  request = requests.get(f\"https://www.genie.co.kr/chart/top200?ditc=D&ymd=20231122&hh=14&rtm=Y&pg={page_num}\", headers = header)\n",
    "  soup = BeautifulSoup(request.text)\n",
    "\n",
    "  chart_list = []\n",
    "  title_list = []\n",
    "  artist_list = []\n",
    "\n",
    "  lists= soup.findAll('td', {'class': 'info'})\n",
    "  for list1 in lists:\n",
    "    title_list1 = list1.find('a', {'class': 'title'}).text.split()\n",
    "    title_list.append(' '.join(title_list1))\n",
    "\n",
    "    artists_list1 = list1.find('a', {'class': 'artist'})\n",
    "    artist_list.append(artists_list1.text)\n",
    "\n",
    "  for i, j in zip(title_list, artist_list):\n",
    "    chart_music = {'노래 제목': i, '가수 이름': j}\n",
    "    chart_list.append(chart_music)\n",
    "\n",
    "  return  chart_list\n",
    "\n",
    "data = []\n",
    "\n",
    "for i in range(1, 5):\n",
    "  chart_list2 = genie_music_chart(i)\n",
    "  for j in chart_list2:\n",
    "    data.append(j)\n",
    "\n",
    "df = pd.DataFrame(data, index=range(1, len(data) + 1))\n",
    "df = df.rename_axis('순위')\n",
    "df.to_excel('genie_music_chart.xlsx')"
   ]
  }
 ],
 "metadata": {
  "language_info": {
   "name": "python"
  },
  "orig_nbformat": 4
 },
 "nbformat": 4,
 "nbformat_minor": 2
}
